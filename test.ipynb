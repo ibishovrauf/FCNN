{
 "cells": [
  {
   "cell_type": "code",
   "execution_count": 2,
   "metadata": {},
   "outputs": [],
   "source": [
    "!pip install numpy"
   ]
  },
  {
   "cell_type": "code",
   "execution_count": 3,
   "metadata": {},
   "outputs": [
    {
     "data": {
      "text/plain": [
       "array([[[ 0,  1,  2,  3],\n",
       "        [ 4,  5,  6,  7],\n",
       "        [ 8,  9, 10, 11],\n",
       "        [12, 13, 14, 15]],\n",
       "\n",
       "       [[16, 17, 18, 19],\n",
       "        [20, 21, 22, 23],\n",
       "        [24, 25, 26, 27],\n",
       "        [28, 29, 30, 31]],\n",
       "\n",
       "       [[32, 33, 34, 35],\n",
       "        [36, 37, 38, 39],\n",
       "        [40, 41, 42, 43],\n",
       "        [44, 45, 46, 47]],\n",
       "\n",
       "       [[48, 49, 50, 51],\n",
       "        [52, 53, 54, 55],\n",
       "        [56, 57, 58, 59],\n",
       "        [60, 61, 62, 63]]])"
      ]
     },
     "execution_count": 3,
     "metadata": {},
     "output_type": "execute_result"
    }
   ],
   "source": [
    "import numpy as np \n",
    "data = np.arange(64).reshape((4, 4, 4))\n",
    "data"
   ]
  },
  {
   "cell_type": "code",
   "execution_count": 23,
   "metadata": {},
   "outputs": [
    {
     "name": "stdout",
     "output_type": "stream",
     "text": [
      "[[[ 0  1]\n",
      "  [ 4  5]]\n",
      "\n",
      " [[16 17]\n",
      "  [20 21]]\n",
      "\n",
      " [[32 33]\n",
      "  [36 37]]\n",
      "\n",
      " [[48 49]\n",
      "  [52 53]]]\n"
     ]
    },
    {
     "data": {
      "text/plain": [
       "(3, 1, 1)"
      ]
     },
     "execution_count": 23,
     "metadata": {},
     "output_type": "execute_result"
    }
   ],
   "source": [
    "window = data[:, 0 * 2: 0 * 2 + 2,\n",
    "                    0 * 2: 0 * 2 + 2]\n",
    "print(window)\n",
    "np.unravel_index(np.argmax(window, axis=None), window.shape)"
   ]
  },
  {
   "cell_type": "code",
   "execution_count": 25,
   "metadata": {},
   "outputs": [
    {
     "name": "stdout",
     "output_type": "stream",
     "text": [
      "Requirement already satisfied: numpy in c:\\users\\raufi\\rauf\\ailab\\task\\taks 01\\myenv\\lib\\site-packages (1.26.2)Note: you may need to restart the kernel to use updated packages.\n",
      "\n"
     ]
    },
    {
     "name": "stderr",
     "output_type": "stream",
     "text": [
      "WARNING: You are using pip version 21.2.4; however, version 23.3.1 is available.\n",
      "You should consider upgrading via the 'c:\\Users\\raufi\\Rauf\\ailab\\task\\taks 01\\myenv\\Scripts\\python.exe -m pip install --upgrade pip' command.\n"
     ]
    }
   ],
   "source": [
    "pip install --upgrade numpy\n"
   ]
  },
  {
   "cell_type": "code",
   "execution_count": 4,
   "metadata": {},
   "outputs": [
    {
     "data": {
      "text/plain": [
       "array([[[0.96544236, 0.07309796, 0.31129709, 0.10397638, 0.86476894,\n",
       "         0.24700296],\n",
       "        [0.37068969, 0.46501924, 0.35858827, 0.01684642, 0.67230861,\n",
       "         0.06914669],\n",
       "        [0.85287551, 0.16571751, 0.32967244, 0.10419659, 0.06332369,\n",
       "         0.96779483],\n",
       "        [0.32325857, 0.12316132, 0.84011364, 0.54330212, 0.76266258,\n",
       "         0.39978015],\n",
       "        [0.27895132, 0.54374555, 0.35227654, 0.10182928, 0.22213657,\n",
       "         0.51770409],\n",
       "        [0.56241546, 0.63988748, 0.23612217, 0.44636222, 0.35637826,\n",
       "         0.77357873]],\n",
       "\n",
       "       [[0.9126444 , 0.63451918, 0.0391769 , 0.31138616, 0.33791011,\n",
       "         0.60188661],\n",
       "        [0.89892477, 0.64715395, 0.3777247 , 0.81375882, 0.35721205,\n",
       "         0.47326813],\n",
       "        [0.77547179, 0.47382499, 0.45992266, 0.56805465, 0.95361259,\n",
       "         0.0289416 ],\n",
       "        [0.85494557, 0.273516  , 0.99503349, 0.60605855, 0.96365593,\n",
       "         0.80588987],\n",
       "        [0.43888826, 0.1140822 , 0.51755334, 0.78552164, 0.20798558,\n",
       "         0.96784514],\n",
       "        [0.64026869, 0.71364342, 0.34892058, 0.43899853, 0.38464761,\n",
       "         0.28703603]]])"
      ]
     },
     "execution_count": 4,
     "metadata": {},
     "output_type": "execute_result"
    }
   ],
   "source": [
    "import numpy as np\n",
    "\n",
    "# Assuming 'window' is your 4x2x2 numpy array\n",
    "# Example data for illustration purposes\n",
    "window = np.random.rand(2, 6, 6)\n",
    "window"
   ]
  },
  {
   "cell_type": "code",
   "execution_count": 10,
   "metadata": {},
   "outputs": [],
   "source": [
    "arr = np.ones((2, 2))"
   ]
  },
  {
   "cell_type": "code",
   "execution_count": 11,
   "metadata": {},
   "outputs": [],
   "source": [
    "window[:, 1:3, 1:3] = arr"
   ]
  },
  {
   "cell_type": "code",
   "execution_count": 12,
   "metadata": {},
   "outputs": [
    {
     "data": {
      "text/plain": [
       "array([[[0.96544236, 0.07309796, 0.31129709, 0.10397638, 0.86476894,\n",
       "         0.24700296],\n",
       "        [0.37068969, 1.        , 1.        , 0.01684642, 0.67230861,\n",
       "         0.06914669],\n",
       "        [0.85287551, 1.        , 1.        , 0.10419659, 0.06332369,\n",
       "         0.96779483],\n",
       "        [0.32325857, 0.12316132, 0.84011364, 0.54330212, 0.76266258,\n",
       "         0.39978015],\n",
       "        [0.27895132, 0.54374555, 0.35227654, 0.10182928, 0.22213657,\n",
       "         0.51770409],\n",
       "        [0.56241546, 0.63988748, 0.23612217, 0.44636222, 0.35637826,\n",
       "         0.77357873]],\n",
       "\n",
       "       [[0.9126444 , 0.63451918, 0.0391769 , 0.31138616, 0.33791011,\n",
       "         0.60188661],\n",
       "        [0.89892477, 1.        , 1.        , 0.81375882, 0.35721205,\n",
       "         0.47326813],\n",
       "        [0.77547179, 1.        , 1.        , 0.56805465, 0.95361259,\n",
       "         0.0289416 ],\n",
       "        [0.85494557, 0.273516  , 0.99503349, 0.60605855, 0.96365593,\n",
       "         0.80588987],\n",
       "        [0.43888826, 0.1140822 , 0.51755334, 0.78552164, 0.20798558,\n",
       "         0.96784514],\n",
       "        [0.64026869, 0.71364342, 0.34892058, 0.43899853, 0.38464761,\n",
       "         0.28703603]]])"
      ]
     },
     "execution_count": 12,
     "metadata": {},
     "output_type": "execute_result"
    }
   ],
   "source": [
    "window"
   ]
  },
  {
   "cell_type": "code",
   "execution_count": null,
   "metadata": {},
   "outputs": [],
   "source": []
  }
 ],
 "metadata": {
  "kernelspec": {
   "display_name": "venv",
   "language": "python",
   "name": "python3"
  },
  "language_info": {
   "codemirror_mode": {
    "name": "ipython",
    "version": 3
   },
   "file_extension": ".py",
   "mimetype": "text/x-python",
   "name": "python",
   "nbconvert_exporter": "python",
   "pygments_lexer": "ipython3",
   "version": "3.10.2"
  }
 },
 "nbformat": 4,
 "nbformat_minor": 2
}
